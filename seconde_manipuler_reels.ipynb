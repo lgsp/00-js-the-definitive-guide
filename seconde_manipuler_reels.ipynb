{
  "nbformat": 4,
  "nbformat_minor": 0,
  "metadata": {
    "colab": {
      "provenance": [],
      "authorship_tag": "ABX9TyPWSivgNrdWoY0ryMoY0NyM",
      "include_colab_link": true
    },
    "kernelspec": {
      "name": "python3",
      "display_name": "Python 3"
    },
    "language_info": {
      "name": "python"
    }
  },
  "cells": [
    {
      "cell_type": "markdown",
      "metadata": {
        "id": "view-in-github",
        "colab_type": "text"
      },
      "source": [
        "<a href=\"https://colab.research.google.com/github/lgsp/00-js-the-definitive-guide/blob/main/seconde_manipuler_reels.ipynb\" target=\"_parent\"><img src=\"https://colab.research.google.com/assets/colab-badge.svg\" alt=\"Open In Colab\"/></a>"
      ]
    },
    {
      "cell_type": "markdown",
      "source": [
        "Extrait du programme officiel : [accessible ici](https://eduscol.education.fr/document/24553/download)\n",
        "\n",
        "# Manipuler les nombres réels\n",
        "\n",
        "Au cycle 4, les élèves ont étudié les inégalités pour comparer des valeurs numériques. La notion d’intervalle, présentée comme ensemble de nombres vérifiant des inégalités, est nouvelle.\n",
        "La notation de la valeur absolue est introduite pour exprimer la distance entre deux nombres réels et caractériser les intervalles de centre donné. Toute autre utilisation est hors programme.\n",
        "\n",
        "# Capacités attendues\n",
        "\n",
        "*   Associer à chaque point de la droite graduée un unique nombre réel et réciproquement.\n",
        "*   Représenter un intervalle de la droite numérique. Déterminer si un nombre réel appartient à un intervalle donné.\n",
        "*   Donner un encadrement, d’amplitude donnée, d’un nombre réel par des décimaux.\n",
        "* Dans le cadre de la résolution de problèmes, arrondir en donnant le nombre de chiffres significatifs adapté à la situation étudiée."
      ],
      "metadata": {
        "id": "UPv_YHkVjv3G"
      }
    },
    {
      "cell_type": "code",
      "execution_count": 20,
      "metadata": {
        "colab": {
          "base_uri": "https://localhost:8080/",
          "height": 131
        },
        "id": "2pgAOOYVjeXr",
        "outputId": "484fcd4e-32f6-4977-ef28-de9191fd7bcb"
      },
      "outputs": [
        {
          "output_type": "stream",
          "name": "stdout",
          "text": [
            "Associer à chaque point de la droite graduée un unique nombre réel et réciproquement.\n"
          ]
        },
        {
          "output_type": "display_data",
          "data": {
            "text/plain": [
              "<Figure size 1000x100 with 1 Axes>"
            ],
            "image/png": "[encoded data removed]"
          },
          "metadata": {}
        }
      ],
      "source": [
        "import matplotlib.pyplot as plt\n",
        "import numpy as np\n",
        "\n",
        "c_1 = \"Associer à chaque point de la droite graduée \"\n",
        "c_1 += \"un unique nombre réel et réciproquement.\"\n",
        "print(c_1)\n",
        "numbers = [-2, -0.5, 0, 1, np.sqrt(2), np.pi]\n",
        "labels = ['P_0', 'P_1', 'P_2', 'P_3', 'P_4', 'P_5']\n",
        "\n",
        "plt.figure(figsize=(10, 1))\n",
        "\n",
        "# Ploter une ligne horizontale\n",
        "plt.plot([min(numbers), max(numbers)], [0, 0], 'k')\n",
        "\n",
        "# Placer les nombres sur la ligne graduée\n",
        "plt.scatter(numbers, np.zeros_like(numbers), color='red')\n",
        "\n",
        "# Ajouter des étiquettes aux nombres\n",
        "for i, label in enumerate(labels):\n",
        "    plt.text(numbers[i], 0.02, label, ha='center')\n",
        "\n",
        "# Masquer les axes\n",
        "plt.axis('off')\n",
        "\n",
        "plt.show()\n"
      ]
    },
    {
      "cell_type": "code",
      "source": [
        "from math import pi\n",
        "nombres = {2**0.5, -2, -0.5, 1, pi, 0}\n",
        "points = {'P_0': 0, 'P_1': 0, 'P_2': 0, 'P_3': 0, 'P_4': 0, 'P_5': 0}\n",
        "print(\"Voici la liste des points dont tu vas déterminer les abscisses\")\n",
        "print(points)\n",
        "for nb in nombres:\n",
        "  p = input(f\"{round(nb, 4)} correspond à l'abscisse de quel point ? \")\n",
        "  points[p] = round(nb, 4)\n",
        "\n"
      ],
      "metadata": {
        "colab": {
          "base_uri": "https://localhost:8080/"
        },
        "id": "x0uc3ihElPyp",
        "outputId": "3df6bc6a-3a5b-40e9-9a58-a9aba8e1312e"
      },
      "execution_count": 21,
      "outputs": [
        {
          "name": "stdout",
          "output_type": "stream",
          "text": [
            "Voici la liste des points dont tu vas déterminer les abscisses\n",
            "{'P_0': 0, 'P_1': 0, 'P_2': 0, 'P_3': 0, 'P_4': 0, 'P_5': 0}\n",
            "-0.5 correspond à l'abscisse de quel point ? P_1\n",
            "1.4142 correspond à l'abscisse de quel point ? P_4\n",
            "1 correspond à l'abscisse de quel point ? P_3\n",
            "3.1416 correspond à l'abscisse de quel point ? P_5\n",
            "0 correspond à l'abscisse de quel point ? P_2\n",
            "-2 correspond à l'abscisse de quel point ? P_0\n"
          ]
        }
      ]
    },
    {
      "cell_type": "code",
      "source": [
        "# Solution\n",
        "import matplotlib.pyplot as plt\n",
        "import numpy as np\n",
        "\n",
        "numbers = [-2, -0.5, 0, 1, np.sqrt(2), np.pi]\n",
        "labels = ['P_0 (-2)', 'P_1 (-0.5)', 'P_2 (0)', 'P_3 (1)', 'P_4 (√2)', 'P_5 (π)']\n",
        "\n",
        "plt.figure(figsize=(10, 1))\n",
        "\n",
        "# Ploter une ligne horizontale\n",
        "plt.plot([min(numbers), max(numbers)], [0, 0], 'k')\n",
        "\n",
        "# Placer les nombres sur la ligne graduée\n",
        "plt.scatter(numbers, np.zeros_like(numbers), color='red')\n",
        "\n",
        "# Ajouter des étiquettes aux nombres\n",
        "for i, label in enumerate(labels):\n",
        "    plt.text(numbers[i], 0.02, label, ha='center')\n",
        "\n",
        "# Masquer les axes\n",
        "plt.axis('off')\n",
        "\n",
        "plt.show()\n"
      ],
      "metadata": {
        "colab": {
          "base_uri": "https://localhost:8080/",
          "height": 114
        },
        "id": "ISfwzQqKodat",
        "outputId": "86401fc9-0641-43ac-8bbb-d423c2f83106"
      },
      "execution_count": 22,
      "outputs": [
        {
          "output_type": "display_data",
          "data": {
            "text/plain": [
              "<Figure size 1000x100 with 1 Axes>"
            ],
            "image/png": "[encoded data removed]"
          },
          "metadata": {}
        }
      ]
    },
    {
      "cell_type": "code",
      "source": [
        "import matplotlib.pyplot as plt\n",
        "import numpy as np\n",
        "\n",
        "c_2 = \"Représenter un intervalle de la droite numérique.\\n\"\n",
        "c_2 += \"Déterminer si un nombre réel appartient à un intervalle donné.\"\n",
        "print(c_2)\n",
        "numbers = [1 + i/10 for i in range(11)]\n",
        "labels = [str(num) for num in numbers]\n",
        "\n",
        "plt.figure(figsize=(10, 1))\n",
        "\n",
        "# Ploter une ligne horizontale\n",
        "plt.plot([min(numbers), max(numbers)], [0, 0], 'k')\n",
        "\n",
        "# Placer les nombres sur la ligne graduée\n",
        "plt.scatter(numbers, np.zeros_like(numbers), color='red')\n",
        "\n",
        "# Ajouter des étiquettes aux nombres\n",
        "for i, label in enumerate(labels):\n",
        "    plt.text(numbers[i], 0.02, label, ha='center')\n",
        "\n",
        "# Masquer les axes\n",
        "plt.axis('off')\n",
        "\n",
        "plt.show()\n"
      ],
      "metadata": {
        "colab": {
          "base_uri": "https://localhost:8080/",
          "height": 149
        },
        "id": "ff86nNMuqvXn",
        "outputId": "529af6c2-bb9c-4c88-8134-67cd994fe353"
      },
      "execution_count": 19,
      "outputs": [
        {
          "output_type": "stream",
          "name": "stdout",
          "text": [
            "Représenter un intervalle de la droite numérique.\n",
            "Déterminer si un nombre réel appartient à un intervalle donné.\n"
          ]
        },
        {
          "output_type": "display_data",
          "data": {
            "text/plain": [
              "<Figure size 1000x100 with 1 Axes>"
            ],
            "image/png": "[encoded data removed]"
          },
          "metadata": {}
        }
      ]
    },
    {
      "cell_type": "code",
      "source": [
        "num_to_square = [1 + i/10 for i in range(5)]\n",
        "list_of_intervals = []\n",
        "for n2s in num_to_square:\n",
        "  print(f\"Dans quel intervalle appartient {n2s}**2 ?\")\n",
        "  for borne in (\"inférieure\", \"supérieure\"):\n",
        "    interval = []\n",
        "    msg = f\"Borne {borne} au dixième = \"\n",
        "    interval.append(float(input(msg)))\n",
        "  list_of_intervals.append(interval)\n",
        "\n",
        "print(\"Voici la liste de tes réponses\")\n",
        "print(list_of_intervals)\n",
        "print(\"Voici tes correspondances\")\n",
        "for i in range(len(num_to_square)):\n",
        "  n2s, interval = num_to_square[i], list_of_intervals[i]\n",
        "  msg = f\"{n2s}**2 = {round(n2s**2, 2)} appartient à l'intervalle {interval}\"\n",
        "  print(msg)\n",
        "\n",
        "\n"
      ],
      "metadata": {
        "colab": {
          "base_uri": "https://localhost:8080/"
        },
        "id": "u-AlhfQksT2G",
        "outputId": "0d40bfda-1997-4804-f706-5620c3de2563"
      },
      "execution_count": 25,
      "outputs": [
        {
          "output_type": "stream",
          "name": "stdout",
          "text": [
            "Dans quel intervalle appartient 1.0**2 ?\n",
            "Borne inférieure au dixième = 1\n",
            "Borne supérieure au dixième = 1.1\n",
            "Dans quel intervalle appartient 1.1**2 ?\n",
            "Borne inférieure au dixième = 1.2\n",
            "Borne supérieure au dixième = 1.3\n",
            "Dans quel intervalle appartient 1.2**2 ?\n",
            "Borne inférieure au dixième = 1.4\n",
            "Borne supérieure au dixième = 1.5\n",
            "Dans quel intervalle appartient 1.3**2 ?\n",
            "Borne inférieure au dixième = 1.6\n",
            "Borne supérieure au dixième = 1.7\n",
            "Dans quel intervalle appartient 1.4**2 ?\n",
            "Borne inférieure au dixième = 1.4\n",
            "Borne supérieure au dixième = 1.5\n",
            "Voici la liste de tes réponses\n",
            "[[1.1], [1.3], [1.5], [1.7], [1.5]]\n",
            "Voici tes correspondances\n",
            "1.0**2 = 1.0 appartient à l'intervalle [1.1]\n",
            "1.1**2 = 1.2100000000000002 appartient à l'intervalle [1.3]\n",
            "1.2**2 = 1.44 appartient à l'intervalle [1.5]\n",
            "1.3**2 = 1.6900000000000002 appartient à l'intervalle [1.7]\n",
            "1.4**2 = 1.9599999999999997 appartient à l'intervalle [1.5]\n"
          ]
        }
      ]
    },
    {
      "cell_type": "code",
      "source": [
        "# Solution\n",
        "from math import floor, ceil\n",
        "\n",
        "\n",
        "def default(number, decimals):\n",
        "  \"\"\"\n",
        "  Cette fonction prend 2 paramètres en entrées :\n",
        "  number: le nombre dont on cherche à faire l'arrondi par défaut\n",
        "  decimals: le nombre de chiffres après la virgule\n",
        "  Elle renvoie le nombre arrondi par défaut à decimals décimales\n",
        "  \"\"\"\n",
        "  num = floor(number * 10**decimals)\n",
        "  den = 10**decimals\n",
        "  return num / den\n",
        "\n",
        "def excess(number, decimals):\n",
        "  \"\"\"\n",
        "  Cette fonction prend 2 paramètres en entrées :\n",
        "  number: le nombre dont on cherche à faire l'arrondi par excès\n",
        "  decimals: le nombre de chiffres après la virgule\n",
        "  Elle renvoie le nombre arrondi par excès à decimals décimales\n",
        "  \"\"\"\n",
        "  if number == int(number):\n",
        "    num = ceil(number * 10**decimals + 1)\n",
        "  else: num = ceil(number * 10**decimals)\n",
        "  den = 10**decimals\n",
        "  return num / den\n",
        "\n",
        "def get_boundary(nums, method, decimals):\n",
        "  \"\"\"\n",
        "  Cette fonction prend 3 paramètres en entrées :\n",
        "  nums: la liste de nombres dont on cherche la borne (inf ou sup)\n",
        "  method: la fonction utilisée (default ou excess)\n",
        "  decimals: le nombre de décimales\n",
        "  Elle renvoie la liste des bornes (que des infs ou que des sups)\n",
        "  \"\"\"\n",
        "  bounds = [method(num, decimals) for num in nums]\n",
        "  return bounds\n",
        "\n",
        "\n",
        "num_to_square = [1 + i/10 for i in range(5)]\n",
        "squares = [round(n2s**2, 2) for n2s in num_to_square]\n",
        "infs = get_boundary(squares, default, 1)\n",
        "sups = get_boundary(squares, excess, 1)\n",
        "list_of_intervals = [[infs[i], sups[i]] for i in range(len(infs))]\n",
        "\n",
        "nums = []\n",
        "for i in range(len(squares)):\n",
        "  nums.extend([infs[i], squares[i], sups[i]])\n",
        "  n2s, interval = num_to_square[i], list_of_intervals[i]\n",
        "  msg = f\"{n2s}**2 = {squares[i]} appartient à l'intervalle {interval}\"\n",
        "  print(msg)\n",
        "\n",
        "plt.figure(figsize=(10, 1))\n",
        "\n",
        "# Ploter une ligne horizontale\n",
        "plt.plot([min(nums), max(nums)], [0, 0], 'k')\n",
        "\n",
        "# Placer les nombres sur la ligne graduée\n",
        "plt.scatter(squares, np.zeros_like(squares), color='green', marker='x')\n",
        "plt.scatter(infs, np.zeros_like(infs), color='red', marker='$[$')\n",
        "plt.scatter(sups, np.zeros_like(sups), color='red', marker='$]$')\n",
        "\n",
        "infs_labels = [str(inf) for inf in infs]\n",
        "sqrs_labels = [str(sqr) for sqr in squares]\n",
        "sups_labels = [str(sup) for sup in sups]\n",
        "# Ajouter des étiquettes aux nombres\n",
        "for i, inf_label in enumerate(infs_labels):\n",
        "    plt.text(infs[i], 0.02, inf_label, ha='center')\n",
        "\n",
        "for i, sqr_label in enumerate(sqrs_labels):\n",
        "    plt.text(squares[i], -0.02, sqr_label, ha='center', va='top')\n",
        "\n",
        "for i, sup_label in enumerate(sups_labels):\n",
        "    plt.text(sups[i], 0.02, sup_label, ha='center')\n",
        "\n",
        "\n",
        "# Masquer les axes\n",
        "plt.axis('off')\n",
        "\n",
        "plt.show()"
      ],
      "metadata": {
        "colab": {
          "base_uri": "https://localhost:8080/",
          "height": 201
        },
        "id": "blnQ-O8XzCTT",
        "outputId": "1613dd56-9ba9-4be1-c83e-a9029369452f"
      },
      "execution_count": 67,
      "outputs": [
        {
          "output_type": "stream",
          "name": "stdout",
          "text": [
            "1.0**2 = 1.0 appartient à l'intervalle [1.0, 1.1]\n",
            "1.1**2 = 1.21 appartient à l'intervalle [1.2, 1.3]\n",
            "1.2**2 = 1.44 appartient à l'intervalle [1.4, 1.5]\n",
            "1.3**2 = 1.69 appartient à l'intervalle [1.6, 1.7]\n",
            "1.4**2 = 1.96 appartient à l'intervalle [1.9, 2.0]\n"
          ]
        },
        {
          "output_type": "display_data",
          "data": {
            "text/plain": [
              "<Figure size 1000x100 with 1 Axes>"
            ],
            "image/png": "[encoded data removed]"
          },
          "metadata": {}
        }
      ]
    },
    {
      "cell_type": "code",
      "source": [
        "# Solution zoom\n",
        "from math import floor, ceil\n",
        "\n",
        "\n",
        "def default(number, decimals):\n",
        "  \"\"\"\n",
        "  Cette fonction prend 2 paramètres en entrées :\n",
        "  number: le nombre dont on cherche à faire l'arrondi par défaut\n",
        "  decimals: le nombre de chiffres après la virgule\n",
        "  Elle renvoie le nombre arrondi par défaut à decimals décimales\n",
        "  \"\"\"\n",
        "  num = floor(number * 10**decimals)\n",
        "  den = 10**decimals\n",
        "  return num / den\n",
        "\n",
        "def excess(number, decimals):\n",
        "  \"\"\"\n",
        "  Cette fonction prend 2 paramètres en entrées :\n",
        "  number: le nombre dont on cherche à faire l'arrondi par excès\n",
        "  decimals: le nombre de chiffres après la virgule\n",
        "  Elle renvoie le nombre arrondi par excès à decimals décimales\n",
        "  \"\"\"\n",
        "  num_pow10 = number * 10**decimals\n",
        "  if num_pow10 == int(num_pow10):\n",
        "    num = ceil(num_pow10 + 1)\n",
        "  else: num = ceil(num_pow10)\n",
        "  den = 10**decimals\n",
        "  return num / den\n",
        "\n",
        "def get_boundary(nums, method, decimals):\n",
        "  \"\"\"\n",
        "  Cette fonction prend 3 paramètres en entrées :\n",
        "  nums: la liste de nombres dont on cherche la borne (inf ou sup)\n",
        "  method: la fonction utilisée (default ou excess)\n",
        "  decimals: le nombre de décimales\n",
        "  Elle renvoie la liste des bornes (que des infs ou que des sups)\n",
        "  \"\"\"\n",
        "  bounds = [method(num, decimals) for num in nums]\n",
        "  return bounds\n",
        "\n",
        "\n",
        "def graduations(start, step, end):\n",
        "  \"\"\"\n",
        "  Cette fonction prend 3 paramètres en entrées :\n",
        "  start: le début des graduations\n",
        "  step: le pas entre chaque graduation\n",
        "  end: la fin des graduations\n",
        "  Elle renvoie la liste des graduations\n",
        "  \"\"\"\n",
        "  return [round(start + i/(step**(-1)), 2) for i in range(end+1)]\n",
        "\n",
        "\n",
        "def plot_marks(x, np_zeros_like, color, marker):\n",
        "  \"\"\"\n",
        "  Cette fonction prend 3 paramètres en entrées :\n",
        "  x: l'abscisse\n",
        "  np_zeros_like: le zéro désignant l'emplacement du point\n",
        "  color: la couleur\n",
        "  marker: le marqueur\n",
        "  Elle exécute le placement du point avec la bonne couleur et le bon marqueur\n",
        "  \"\"\"\n",
        "  plt.scatter(x, np.zeros_like(np_zeros_like), color=color, marker=marker)\n",
        "\n",
        "\n",
        "def zoom(x_pts, inf, sup, step, end):\n",
        "  print(f\"Zoom sur {x_pts} appartient à [{inf}; {sup}]\")\n",
        "  nums = graduations(inf, step, end)\n",
        "  plt.figure(figsize=(10, 1))\n",
        "\n",
        "  # Ploter une ligne horizontale\n",
        "  plt.plot([inf, sup], [0, 0], 'k')\n",
        "\n",
        "  # Placer les nombres sur la ligne graduée\n",
        "  xs, c, m = [inf, x_pts, sup], ['red', 'green', 'red'], ['$[$', 'x', '$]$']\n",
        "  for i in range(3):\n",
        "    plot_marks(xs[i], xs[i], c[i], m[i])\n",
        "\n",
        "  labels = [str(num) for num in nums]\n",
        "  sqr_label = str(x_pts)\n",
        "  # Ajouter des étiquettes aux nombres\n",
        "  for i, label in enumerate(labels):\n",
        "      plt.text(nums[i], 0.02, label, ha='center')\n",
        "\n",
        "  plt.text(x_pts, -0.02, sqr_label, ha='center', va='top')\n",
        "\n",
        "  # Masquer les axes\n",
        "  plt.axis('off')\n",
        "\n",
        "  plt.show()\n",
        "\n",
        "\n",
        "def new_interval(x_pts, d):\n",
        "  b_inf, b_sup = default(x_pts, d), excess(x_pts, d)\n",
        "  print(f\"Peux-tu donner un intervalle encadrant {x_pts} à 10**(-{d}) près ?\")\n",
        "  bounds = [\"inf\", \"sup\"]\n",
        "  boundaries = []\n",
        "  for bound in bounds:\n",
        "    ans = float(input(f\"Borne {bound}érieure = \"))\n",
        "    boundaries.append(ans)\n",
        "  print(f\"Selon toi, {x_pts} appartient à l'intervalle {boundaries}\")\n",
        "  if boundaries == [b_inf, b_sup]:\n",
        "    print(\"Bravo tu as trouvé le bon intervalle.\")\n",
        "  elif boundaries[0] == b_inf or boundaries[1] == b_sup:\n",
        "    print(\"Tu as trouvé une borne sur deux c'est déjà bien.\")\n",
        "\n",
        "#print(f\"La bonne réponse était [{b_inf}, {b_sup}]\")\n"
      ],
      "metadata": {
        "id": "EwXiAeaT2VbZ"
      },
      "execution_count": 125,
      "outputs": []
    },
    {
      "cell_type": "code",
      "source": [
        "x_pts, inf, sup, d = 1.21, 1.2, 1.3, 2\n",
        "zoom(x_pts, inf, sup, step=0.01, end=10)\n",
        "new_interval(x_pts, d)\n",
        "\n"
      ],
      "metadata": {
        "colab": {
          "base_uri": "https://localhost:8080/",
          "height": 201
        },
        "id": "ylUv0iGCn6Bw",
        "outputId": "a41f8f6f-3c95-4eb7-fe21-59d1dedefe81"
      },
      "execution_count": 126,
      "outputs": [
        {
          "output_type": "stream",
          "name": "stdout",
          "text": [
            "Zoom sur 1.21 appartient à [1.2; 1.3]\n"
          ]
        },
        {
          "output_type": "display_data",
          "data": {
            "text/plain": [
              "<Figure size 1000x100 with 1 Axes>"
            ],
            "image/png": "[encoded data removed]"
          },
          "metadata": {}
        },
        {
          "output_type": "stream",
          "name": "stdout",
          "text": [
            "Peux-tu donner un intervalle encadrant 1.21 à 10**(-2) près ?\n",
            "Borne inférieure = 1\n",
            "Borne supérieure = 2\n",
            "Selon toi, 1.21 appartient à l'intervalle [1.0, 2.0]\n"
          ]
        }
      ]
    },
    {
      "cell_type": "code",
      "source": [
        "x_pts, inf, sup, d = 1.44, 1.4, 1.5, 2\n",
        "zoom(x_pts, inf, sup, step=0.01, end=10)\n",
        "new_interval(x_pts, d)\n"
      ],
      "metadata": {
        "colab": {
          "base_uri": "https://localhost:8080/",
          "height": 201
        },
        "id": "7q6y6iHdpo2Y",
        "outputId": "95b17906-1128-4ffe-a8ca-ed4e13ae78d7"
      },
      "execution_count": 127,
      "outputs": [
        {
          "output_type": "stream",
          "name": "stdout",
          "text": [
            "Zoom sur 1.44 appartient à [1.4; 1.5]\n"
          ]
        },
        {
          "output_type": "display_data",
          "data": {
            "text/plain": [
              "<Figure size 1000x100 with 1 Axes>"
            ],
            "image/png": "[encoded data removed]"
          },
          "metadata": {}
        },
        {
          "output_type": "stream",
          "name": "stdout",
          "text": [
            "Peux-tu donner un intervalle encadrant 1.44 à 10**(-2) près ?\n",
            "Borne inférieure = 1\n",
            "Borne supérieure = 2\n",
            "Selon toi, 1.44 appartient à l'intervalle [1.0, 2.0]\n"
          ]
        }
      ]
    },
    {
      "cell_type": "code",
      "source": [
        "x_pts, inf, sup, d = 1.69, 1.6, 1.7, 2\n",
        "zoom(x_pts, inf, sup, step=0.01, end=10)\n",
        "new_interval(x_pts, d)"
      ],
      "metadata": {
        "colab": {
          "base_uri": "https://localhost:8080/",
          "height": 201
        },
        "id": "HolYVY28pq0P",
        "outputId": "781aa4f7-27eb-439e-a9be-d8f00d95d1fa"
      },
      "execution_count": 128,
      "outputs": [
        {
          "output_type": "stream",
          "name": "stdout",
          "text": [
            "Zoom sur 1.69 appartient à [1.6; 1.7]\n"
          ]
        },
        {
          "output_type": "display_data",
          "data": {
            "text/plain": [
              "<Figure size 1000x100 with 1 Axes>"
            ],
            "image/png": "[encoded data removed]"
          },
          "metadata": {}
        },
        {
          "output_type": "stream",
          "name": "stdout",
          "text": [
            "Peux-tu donner un intervalle encadrant 1.69 à 10**(-2) près ?\n",
            "Borne inférieure = 1\n",
            "Borne supérieure = 2\n",
            "Selon toi, 1.69 appartient à l'intervalle [1.0, 2.0]\n"
          ]
        }
      ]
    },
    {
      "cell_type": "code",
      "source": [
        "x_pts, inf, sup, d = 1.96, 1.9, 2, 2\n",
        "zoom(x_pts, inf, sup, step=0.01, end=10)\n",
        "new_interval(x_pts, d)"
      ],
      "metadata": {
        "colab": {
          "base_uri": "https://localhost:8080/",
          "height": 201
        },
        "id": "FEFQxmQIpuXB",
        "outputId": "a10fff51-fef3-49a6-adef-d259747288e3"
      },
      "execution_count": 129,
      "outputs": [
        {
          "output_type": "stream",
          "name": "stdout",
          "text": [
            "Zoom sur 1.96 appartient à [1.9; 2]\n"
          ]
        },
        {
          "output_type": "display_data",
          "data": {
            "text/plain": [
              "<Figure size 1000x100 with 1 Axes>"
            ],
            "image/png": "[encoded data removed]"
          },
          "metadata": {}
        },
        {
          "output_type": "stream",
          "name": "stdout",
          "text": [
            "Peux-tu donner un intervalle encadrant 1.96 à 10**(-2) près ?\n",
            "Borne inférieure = 1\n",
            "Borne supérieure = 2\n",
            "Selon toi, 1.96 appartient à l'intervalle [1.0, 2.0]\n"
          ]
        }
      ]
    },
    {
      "cell_type": "code",
      "source": [],
      "metadata": {
        "id": "Y3b7A8IFsk6n"
      },
      "execution_count": null,
      "outputs": []
    }
  ]
}